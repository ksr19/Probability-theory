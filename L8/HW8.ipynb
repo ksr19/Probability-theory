{
 "cells": [
  {
   "cell_type": "markdown",
   "metadata": {},
   "source": [
    "# Урок 8. Дисперсионный анализ. Логистическая регрессия"
   ]
  },
  {
   "cell_type": "markdown",
   "metadata": {},
   "source": [
    "1. Провести дисперсионный анализ для определения того, есть ли различия среднего роста среди взрослых футболистов, хоккеистов и штангистов. Даны значения роста в трех группах случайно выбранных спортсменов: Футболисты: 173, 175, 180, 178, 177, 185, 183, 182. Хоккеисты: 177, 179, 180, 188, 177, 172, 171, 184, 180. Штангисты: 172, 173, 169, 177, 166, 180, 178, 177, 172, 166, 170."
   ]
  },
  {
   "cell_type": "code",
   "execution_count": 88,
   "metadata": {},
   "outputs": [],
   "source": [
    "import numpy as np\n",
    "from scipy import stats"
   ]
  },
  {
   "cell_type": "code",
   "execution_count": 89,
   "metadata": {},
   "outputs": [],
   "source": [
    "F = np.array([173, 175, 180, 178, 177, 185, 183, 182])\n",
    "H = np.array([177, 179, 180, 188, 177, 172, 171, 184, 180])\n",
    "L = np.array([172, 173, 169, 177, 166, 180, 178, 177, 172, 166, 170])"
   ]
  },
  {
   "cell_type": "markdown",
   "metadata": {},
   "source": [
    "Тестируем нулевую гипотезу:\n",
    "### $$H_0:\\mu_F=\\mu_H=\\mu_L$$"
   ]
  },
  {
   "cell_type": "code",
   "execution_count": 90,
   "metadata": {},
   "outputs": [
    {
     "data": {
      "text/plain": [
       "F_onewayResult(statistic=5.500053450812596, pvalue=0.010482206918698694)"
      ]
     },
     "execution_count": 90,
     "metadata": {},
     "output_type": "execute_result"
    }
   ],
   "source": [
    "stats.f_oneway(F, H, L)"
   ]
  },
  {
   "cell_type": "markdown",
   "metadata": {},
   "source": [
    "Полученная величина $p-value$ позволяет утверждать, что нулевая гипотеза отвергается на 5% уровне значимости, но не может быть отвергнута на 1% уровне значимости."
   ]
  },
  {
   "cell_type": "markdown",
   "metadata": {},
   "source": [
    "Повторим вручную проведенный анализ. Для этого сначала определим средние значения для каждой из выборок и общее среднее:\n",
    "### $$\\overline{x}_F \\approx 179.13$$\n",
    "### $$\\overline{x}_H \\approx 178.67$$\n",
    "### $$\\overline{x}_L \\approx 172.73$$\n",
    "### $$\\overline{x}_{FHL} \\approx 176.46$$"
   ]
  },
  {
   "cell_type": "code",
   "execution_count": 91,
   "metadata": {},
   "outputs": [
    {
     "name": "stdout",
     "output_type": "stream",
     "text": [
      "Средний рост футболистов - 179.125\n",
      "Средний рост хоккеистов - 178.66666666666666\n",
      "Средний рост штангистов - 172.72727272727272\n",
      "Средний рост спортсменов - 176.46428571428572\n"
     ]
    }
   ],
   "source": [
    "FHL = np.concatenate((F, H, L))\n",
    "print(f'Средний рост футболистов - {np.mean(F)}')\n",
    "print(f'Средний рост хоккеистов - {np.mean(H)}')\n",
    "print(f'Средний рост штангистов - {np.mean(L)}')\n",
    "print(f'Средний рост спортсменов - {np.mean(FHL)}')"
   ]
  },
  {
   "cell_type": "markdown",
   "metadata": {},
   "source": [
    "Посчитаем сумму квадратов отклонений имеющихся наблюдений от среднего:\n",
    "### $$S^2 \\approx 830.9643$$"
   ]
  },
  {
   "cell_type": "code",
   "execution_count": 92,
   "metadata": {},
   "outputs": [
    {
     "name": "stdout",
     "output_type": "stream",
     "text": [
      "Сумма квадратов отклонений имеющихся наблюдений от среднего - 830.9642857142854\n"
     ]
    }
   ],
   "source": [
    "s2 = ((FHL - np.mean(FHL))**2).sum()\n",
    "print(f'Сумма квадратов отклонений имеющихся наблюдений от среднего - {s2}')"
   ]
  },
  {
   "cell_type": "markdown",
   "metadata": {},
   "source": [
    "Далее посчитаем сумму квадратов отклонений средних групповых значений от общего среднего:\n",
    "### $$S^2_F \\approx 253.9075$$"
   ]
  },
  {
   "cell_type": "code",
   "execution_count": 93,
   "metadata": {},
   "outputs": [
    {
     "name": "stdout",
     "output_type": "stream",
     "text": [
      "Сумма квадратов отклонений средних групповых значений от общего среднего - 253.9074675324678\n"
     ]
    }
   ],
   "source": [
    "s2f = ((np.mean(F) - np.mean(FHL))**2)*len(F) + \\\n",
    "    ((np.mean(H) - np.mean(FHL))**2)*len(H) + \\\n",
    "    ((np.mean(L) - np.mean(FHL))**2)*len(L)\n",
    "print(f'Сумма квадратов отклонений средних групповых значений от общего среднего - {s2f}')"
   ]
  },
  {
   "cell_type": "markdown",
   "metadata": {},
   "source": [
    "Теперь найдем остаточную сумму квадратов отклонений:\n",
    "### $$S^2_{ост} \\approx 577.0568$$"
   ]
  },
  {
   "cell_type": "code",
   "execution_count": 94,
   "metadata": {},
   "outputs": [
    {
     "name": "stdout",
     "output_type": "stream",
     "text": [
      "Остаточная сумма квадратов отклонений - 577.0568181818182\n"
     ]
    }
   ],
   "source": [
    "s2ost = ((F - np.mean(F))**2).sum() + ((H - np.mean(H))**2).sum() + ((L - np.mean(L))**2).sum()\n",
    "print(f'Остаточная сумма квадратов отклонений - {s2ost}')"
   ]
  },
  {
   "cell_type": "markdown",
   "metadata": {},
   "source": [
    "Вычислим факторную дисперсию, $k=3$ в данном случае:\n",
    "### $$\\sigma^2_F = \\frac{S^2_F}{k-1} = \\frac{253.9075}{2} \\approx 126.9537$$\n",
    "Вычислим остаточную дисперсию:\n",
    "### $$\\sigma^2_{ост} = \\frac{S^2_{ост}}{n-k} = \\frac{577.0568}{25} \\approx 23.0823$$"
   ]
  },
  {
   "cell_type": "code",
   "execution_count": 95,
   "metadata": {},
   "outputs": [
    {
     "name": "stdout",
     "output_type": "stream",
     "text": [
      "Факторная дисперсия - 126.9537337662339\n",
      "Остаточная дисперсия - 23.08227272727273\n"
     ]
    }
   ],
   "source": [
    "k = 3\n",
    "n = len(FHL)\n",
    "sigma_f = s2f/(k-1)\n",
    "sigma_ost = s2ost/(n-k)\n",
    "print(f'Факторная дисперсия - {sigma_f}')\n",
    "print(f'Остаточная дисперсия - {sigma_ost}')"
   ]
  },
  {
   "cell_type": "markdown",
   "metadata": {},
   "source": [
    "Теперь найдем рассчетное значение критерия Фишера:\n",
    "### $$F_H=\\frac{\\sigma^2_F}{\\sigma^2_{ост}} \\approx 5.5$$"
   ]
  },
  {
   "cell_type": "code",
   "execution_count": 96,
   "metadata": {},
   "outputs": [
    {
     "data": {
      "text/plain": [
       "5.500053450812598"
      ]
     },
     "execution_count": 96,
     "metadata": {},
     "output_type": "execute_result"
    }
   ],
   "source": [
    "sigma_f/sigma_ost"
   ]
  },
  {
   "cell_type": "markdown",
   "metadata": {},
   "source": [
    "Критическое значение критерия Фишера для разных уровней значимости и соответствующих степеней свободы $(2, 25)$:\n",
    "### $$F_{крит5\\%}  =3.38$$\n",
    "### $$F_{крит1\\%}  =5.57$$"
   ]
  },
  {
   "cell_type": "markdown",
   "metadata": {},
   "source": [
    "Получаем такой же вывод: гипотеза о равенстве средних во всех группах отвергается на 5% уровне значимости, но принимается на 1% уровне значимости."
   ]
  }
 ],
 "metadata": {
  "kernelspec": {
   "display_name": "Python 3",
   "language": "python",
   "name": "python3"
  },
  "language_info": {
   "codemirror_mode": {
    "name": "ipython",
    "version": 3
   },
   "file_extension": ".py",
   "mimetype": "text/x-python",
   "name": "python",
   "nbconvert_exporter": "python",
   "pygments_lexer": "ipython3",
   "version": "3.8.6"
  }
 },
 "nbformat": 4,
 "nbformat_minor": 4
}
